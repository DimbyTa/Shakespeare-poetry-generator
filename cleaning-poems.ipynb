{
 "cells": [
  {
   "cell_type": "code",
   "execution_count": 1,
   "id": "eb840267",
   "metadata": {
    "_cell_guid": "b1076dfc-b9ad-4769-8c92-a6c4dae69d19",
    "_uuid": "8f2839f25d086af736a60e9eeb907d3b93b6e0e5",
    "execution": {
     "iopub.execute_input": "2023-08-07T23:39:01.853965Z",
     "iopub.status.busy": "2023-08-07T23:39:01.853526Z",
     "iopub.status.idle": "2023-08-07T23:39:01.891849Z",
     "shell.execute_reply": "2023-08-07T23:39:01.890464Z"
    },
    "papermill": {
     "duration": 0.049999,
     "end_time": "2023-08-07T23:39:01.894998",
     "exception": false,
     "start_time": "2023-08-07T23:39:01.844999",
     "status": "completed"
    },
    "tags": []
   },
   "outputs": [
    {
     "name": "stdout",
     "output_type": "stream",
     "text": [
      "/kaggle/input/shakespeare-scraper/Shakespeare_poems.csv\n",
      "/kaggle/input/shakespeare-scraper/__results__.html\n",
      "/kaggle/input/shakespeare-scraper/__notebook__.ipynb\n",
      "/kaggle/input/shakespeare-scraper/__output__.json\n",
      "/kaggle/input/shakespeare-scraper/custom.css\n",
      "/kaggle/input/poems-scraper/__results__.html\n",
      "/kaggle/input/poems-scraper/__notebook__.ipynb\n",
      "/kaggle/input/poems-scraper/__output__.json\n",
      "/kaggle/input/poems-scraper/famous_poems.csv\n",
      "/kaggle/input/poems-scraper/custom.css\n"
     ]
    }
   ],
   "source": [
    "# This Python 3 environment comes with many helpful analytics libraries installed\n",
    "# It is defined by the kaggle/python Docker image: https://github.com/kaggle/docker-python\n",
    "# For example, here's several helpful packages to load\n",
    "\n",
    "import numpy as np # linear algebra\n",
    "import pandas as pd # data processing, CSV file I/O (e.g. pd.read_csv)\n",
    "import re\n",
    "import ast\n",
    "# Input data files are available in the read-only \"../input/\" directory\n",
    "# For example, running this (by clicking run or pressing Shift+Enter) will list all files under the input directory\n",
    "\n",
    "import os\n",
    "for dirname, _, filenames in os.walk('/kaggle/input'):\n",
    "    for filename in filenames:\n",
    "        print(os.path.join(dirname, filename))\n",
    "\n",
    "# You can write up to 20GB to the current directory (/kaggle/working/) that gets preserved as output when you create a version using \"Save & Run All\" \n",
    "# You can also write temporary files to /kaggle/temp/, but they won't be saved outside of the current session"
   ]
  },
  {
   "cell_type": "code",
   "execution_count": 2,
   "id": "573e16b6",
   "metadata": {
    "execution": {
     "iopub.execute_input": "2023-08-07T23:39:01.910122Z",
     "iopub.status.busy": "2023-08-07T23:39:01.909330Z",
     "iopub.status.idle": "2023-08-07T23:39:01.933295Z",
     "shell.execute_reply": "2023-08-07T23:39:01.931796Z"
    },
    "papermill": {
     "duration": 0.034692,
     "end_time": "2023-08-07T23:39:01.936215",
     "exception": false,
     "start_time": "2023-08-07T23:39:01.901523",
     "status": "completed"
    },
    "tags": []
   },
   "outputs": [],
   "source": [
    "poems_df = pd.read_csv('/kaggle/input/shakespeare-scraper/Shakespeare_poems.csv')"
   ]
  },
  {
   "cell_type": "code",
   "execution_count": 3,
   "id": "b45ab414",
   "metadata": {
    "execution": {
     "iopub.execute_input": "2023-08-07T23:39:01.951985Z",
     "iopub.status.busy": "2023-08-07T23:39:01.950814Z",
     "iopub.status.idle": "2023-08-07T23:39:01.989062Z",
     "shell.execute_reply": "2023-08-07T23:39:01.987644Z"
    },
    "papermill": {
     "duration": 0.049372,
     "end_time": "2023-08-07T23:39:01.991974",
     "exception": false,
     "start_time": "2023-08-07T23:39:01.942602",
     "status": "completed"
    },
    "tags": []
   },
   "outputs": [
    {
     "name": "stdout",
     "output_type": "stream",
     "text": [
      "<class 'pandas.core.frame.DataFrame'>\n",
      "RangeIndex: 48 entries, 0 to 47\n",
      "Data columns (total 3 columns):\n",
      " #   Column      Non-Null Count  Dtype \n",
      "---  ------      --------------  ----- \n",
      " 0   Unnamed: 0  48 non-null     int64 \n",
      " 1   title       48 non-null     object\n",
      " 2   poem_body   48 non-null     object\n",
      "dtypes: int64(1), object(2)\n",
      "memory usage: 1.2+ KB\n"
     ]
    }
   ],
   "source": [
    "poems_df.info()"
   ]
  },
  {
   "cell_type": "code",
   "execution_count": 4,
   "id": "55ebc460",
   "metadata": {
    "execution": {
     "iopub.execute_input": "2023-08-07T23:39:02.008537Z",
     "iopub.status.busy": "2023-08-07T23:39:02.008066Z",
     "iopub.status.idle": "2023-08-07T23:39:02.023205Z",
     "shell.execute_reply": "2023-08-07T23:39:02.021451Z"
    },
    "papermill": {
     "duration": 0.027627,
     "end_time": "2023-08-07T23:39:02.026055",
     "exception": false,
     "start_time": "2023-08-07T23:39:01.998428",
     "status": "completed"
    },
    "tags": []
   },
   "outputs": [],
   "source": [
    "poems_df['poem_body'] = poems_df['poem_body'].apply(ast.literal_eval)"
   ]
  },
  {
   "cell_type": "code",
   "execution_count": 5,
   "id": "464b4219",
   "metadata": {
    "execution": {
     "iopub.execute_input": "2023-08-07T23:39:02.040638Z",
     "iopub.status.busy": "2023-08-07T23:39:02.040196Z",
     "iopub.status.idle": "2023-08-07T23:39:02.047600Z",
     "shell.execute_reply": "2023-08-07T23:39:02.046391Z"
    },
    "papermill": {
     "duration": 0.017651,
     "end_time": "2023-08-07T23:39:02.050196",
     "exception": false,
     "start_time": "2023-08-07T23:39:02.032545",
     "status": "completed"
    },
    "tags": []
   },
   "outputs": [],
   "source": [
    "def clean_text(text):\n",
    "    # Replace \\n and \\t with spaces\n",
    "    cleaned_text = text.replace('\\n', ' ').replace('\\t', '')\n",
    "    # Remove non-breaking space (\\xa0)\n",
    "    cleaned_text = cleaned_text.replace('\\xa0', ' ')\n",
    "    # Remove non-breaking double dash\n",
    "    cleaned_text = cleaned_text.replace('--', ' ')\n",
    "    cleaned_text = cleaned_text.replace(',—', ' ')\n",
    "    # Remove extra spaces\n",
    "    cleaned_text = re.sub(r'\\s+', ' ', cleaned_text).strip()\n",
    "    return cleaned_text"
   ]
  },
  {
   "cell_type": "code",
   "execution_count": 6,
   "id": "a2356106",
   "metadata": {
    "execution": {
     "iopub.execute_input": "2023-08-07T23:39:02.064646Z",
     "iopub.status.busy": "2023-08-07T23:39:02.064253Z",
     "iopub.status.idle": "2023-08-07T23:39:02.070551Z",
     "shell.execute_reply": "2023-08-07T23:39:02.069258Z"
    },
    "papermill": {
     "duration": 0.016201,
     "end_time": "2023-08-07T23:39:02.072912",
     "exception": false,
     "start_time": "2023-08-07T23:39:02.056711",
     "status": "completed"
    },
    "tags": []
   },
   "outputs": [],
   "source": [
    "def clean_list_of_verses(list_verses):\n",
    "    result = []\n",
    "    for verse in list_verses:\n",
    "        result.append(clean_text(verse))\n",
    "    return result"
   ]
  },
  {
   "cell_type": "code",
   "execution_count": 7,
   "id": "538b4910",
   "metadata": {
    "execution": {
     "iopub.execute_input": "2023-08-07T23:39:02.087388Z",
     "iopub.status.busy": "2023-08-07T23:39:02.086954Z",
     "iopub.status.idle": "2023-08-07T23:39:02.093036Z",
     "shell.execute_reply": "2023-08-07T23:39:02.091832Z"
    },
    "papermill": {
     "duration": 0.016271,
     "end_time": "2023-08-07T23:39:02.095582",
     "exception": false,
     "start_time": "2023-08-07T23:39:02.079311",
     "status": "completed"
    },
    "tags": []
   },
   "outputs": [],
   "source": [
    "clean_text_test = clean_list_of_verses(poems_df['poem_body'][0])"
   ]
  },
  {
   "cell_type": "code",
   "execution_count": 8,
   "id": "4245b62a",
   "metadata": {
    "execution": {
     "iopub.execute_input": "2023-08-07T23:39:02.110855Z",
     "iopub.status.busy": "2023-08-07T23:39:02.110115Z",
     "iopub.status.idle": "2023-08-07T23:39:02.115685Z",
     "shell.execute_reply": "2023-08-07T23:39:02.114487Z"
    },
    "papermill": {
     "duration": 0.01577,
     "end_time": "2023-08-07T23:39:02.118125",
     "exception": false,
     "start_time": "2023-08-07T23:39:02.102355",
     "status": "completed"
    },
    "tags": []
   },
   "outputs": [
    {
     "name": "stdout",
     "output_type": "stream",
     "text": [
      "['COME away, come away, death,', 'And in sad cypres let me be laid;', 'Fly away, fly away, breath;', 'I am slain by a fair cruel maid.', 'My shroud of white, stuck all with yew,', 'O prepare it!', 'My part of death, no one so true', 'Did share it.', '', 'Not a flower, not a flower sweet,', 'On my black coffin let there be strown;', 'Not a friend, not a friend greet', 'My poor corse, where my bones shall be thrown:', 'A thousand thousand sighs to save,', 'Lay me, O, where', 'Sad true lover never find my grave', 'To weep there!', '']\n"
     ]
    }
   ],
   "source": [
    "print(clean_text_test)"
   ]
  },
  {
   "cell_type": "code",
   "execution_count": 9,
   "id": "aea95ea8",
   "metadata": {
    "execution": {
     "iopub.execute_input": "2023-08-07T23:39:02.133747Z",
     "iopub.status.busy": "2023-08-07T23:39:02.132922Z",
     "iopub.status.idle": "2023-08-07T23:39:02.149678Z",
     "shell.execute_reply": "2023-08-07T23:39:02.148675Z"
    },
    "papermill": {
     "duration": 0.027599,
     "end_time": "2023-08-07T23:39:02.152283",
     "exception": false,
     "start_time": "2023-08-07T23:39:02.124684",
     "status": "completed"
    },
    "tags": []
   },
   "outputs": [],
   "source": [
    "poems_df['poem_body'] = poems_df['poem_body'].apply(clean_list_of_verses)"
   ]
  },
  {
   "cell_type": "code",
   "execution_count": 10,
   "id": "4e892adc",
   "metadata": {
    "execution": {
     "iopub.execute_input": "2023-08-07T23:39:02.167764Z",
     "iopub.status.busy": "2023-08-07T23:39:02.166305Z",
     "iopub.status.idle": "2023-08-07T23:39:02.189817Z",
     "shell.execute_reply": "2023-08-07T23:39:02.187369Z"
    },
    "papermill": {
     "duration": 0.03393,
     "end_time": "2023-08-07T23:39:02.192515",
     "exception": false,
     "start_time": "2023-08-07T23:39:02.158585",
     "status": "completed"
    },
    "tags": []
   },
   "outputs": [
    {
     "name": "stdout",
     "output_type": "stream",
     "text": [
      "0     [COME away, come away, death,, And in sad cypr...\n",
      "1     [When to the session of sweet silent thought, ...\n",
      "2     [O mistress mine, where are you roaming?, O st...\n",
      "3     [ROSES, their sharp spines being gone,, Not ro...\n",
      "4     [Blow, blow, thou winter wind, Thou art not so...\n",
      "5     [HARK! hark! the lark at heaven's gate sings,,...\n",
      "6     [All the world's a stage,, And all the men and...\n",
      "7     [Crabbed Age and Youth, Cannot live together:,...\n",
      "8     [FROM off a hill whose concave womb reworded, ...\n",
      "9     [Sir, in my heart there was a kind of fighting...\n",
      "10    [Who is Silvia? What is she?, That all our swa...\n",
      "11    [Sigh no more, ladies, sigh no more,, Men were...\n",
      "12    [Orpheus with his lute made trees,, And the mo...\n",
      "13    [O never say that I was false of heart,, Thoug...\n",
      "14    [Now, my co-mates and brothers in exile,, Hath...\n",
      "15    [From \"A Midsummer-Night's Dream,\" Act V. Scen...\n",
      "16    [Your love and pity doth the impression fill,,...\n",
      "17    [O, for my sake do you with Fortune chide,, Th...\n",
      "18    [Alas, 'tis true I have gone here and there, A...\n",
      "19    [For shame deny that thou bear'st love to any,...\n",
      "20    [O! never say that I was false of heart,, Thou...\n",
      "21    [What's in the brain, that ink may character,,...\n",
      "22    [Not mine own fears, nor the prophetic soul, O...\n",
      "23    [When in the chronicle of wasted time, I see d...\n",
      "24    [Let not my love be called idolatry,, Nor my b...\n",
      "25    [To me, fair friend, you never can be old,, Fo...\n",
      "26    [Alack! what poverty my Muse brings forth,, Th...\n",
      "27    [My love is strengthened, though more weak in ...\n",
      "28    [O truant Muse what shall be thy amends, For t...\n",
      "29    [Where art thou Muse that thou forget'st so lo...\n",
      "30    [Double, double toil and trouble;, Fire burn a...\n",
      "31    [Marcellus to Horatio and Bernardo, after seei...\n",
      "32    [Three witches, casting a spell ..., , Round a...\n",
      "33    [TELL me where is Fancy bred,, Or in the heart...\n",
      "34    [Farewell! God knows when we shall meet again....\n",
      "35    [It was a lover and his lass, With a hey and a...\n",
      "36    [How like a winter hath my absence been, From ...\n",
      "37    [Our remedies oft in ourselves do lie, Which w...\n",
      "38    [But, lo! from forth a copse that neighbours b...\n",
      "39    [Her lily hand her rosy cheek lies under,, Coz...\n",
      "40    [Friends, Romans, countrymen, lend me your ear...\n",
      "41    [FEAR no more the heat o' the sun,, Nor the fu...\n",
      "42    [Fear no more the heat ‘o the sun,, Nor the fu...\n",
      "43    [Full fathom five thy father lies;, Of his bon...\n",
      "44    [Where the bee sucks, there suck I:, In a cows...\n",
      "45    [Come unto these yellow sands,, And then take ...\n",
      "46    [You spotted snakes with double tongue,, Thorn...\n",
      "47    [Over hill, over dale,, Thorough bush, thoroug...\n",
      "Name: poem_body, dtype: object\n"
     ]
    }
   ],
   "source": [
    "print(poems_df['poem_body'])"
   ]
  },
  {
   "cell_type": "code",
   "execution_count": 11,
   "id": "91f58b4f",
   "metadata": {
    "execution": {
     "iopub.execute_input": "2023-08-07T23:39:02.208996Z",
     "iopub.status.busy": "2023-08-07T23:39:02.208554Z",
     "iopub.status.idle": "2023-08-07T23:39:02.222020Z",
     "shell.execute_reply": "2023-08-07T23:39:02.220646Z"
    },
    "papermill": {
     "duration": 0.024642,
     "end_time": "2023-08-07T23:39:02.224995",
     "exception": false,
     "start_time": "2023-08-07T23:39:02.200353",
     "status": "completed"
    },
    "tags": []
   },
   "outputs": [],
   "source": [
    "poems_df.to_csv('famous_poems_cleaned.csv')"
   ]
  },
  {
   "cell_type": "code",
   "execution_count": 12,
   "id": "b8b04d49",
   "metadata": {
    "execution": {
     "iopub.execute_input": "2023-08-07T23:39:02.240691Z",
     "iopub.status.busy": "2023-08-07T23:39:02.239475Z",
     "iopub.status.idle": "2023-08-07T23:39:02.246441Z",
     "shell.execute_reply": "2023-08-07T23:39:02.244960Z"
    },
    "papermill": {
     "duration": 0.017708,
     "end_time": "2023-08-07T23:39:02.249256",
     "exception": false,
     "start_time": "2023-08-07T23:39:02.231548",
     "status": "completed"
    },
    "tags": []
   },
   "outputs": [],
   "source": [
    "def join_into_string(verses):\n",
    "    #concat_text = ' '.join(verses)\n",
    "    separator = ' '  # Replace with your desired separator\n",
    "    concat_text = separator.join(verses)\n",
    "    return concat_text"
   ]
  },
  {
   "cell_type": "code",
   "execution_count": 13,
   "id": "75e8a2d4",
   "metadata": {
    "execution": {
     "iopub.execute_input": "2023-08-07T23:39:02.264267Z",
     "iopub.status.busy": "2023-08-07T23:39:02.263828Z",
     "iopub.status.idle": "2023-08-07T23:39:02.270717Z",
     "shell.execute_reply": "2023-08-07T23:39:02.269550Z"
    },
    "papermill": {
     "duration": 0.017135,
     "end_time": "2023-08-07T23:39:02.273085",
     "exception": false,
     "start_time": "2023-08-07T23:39:02.255950",
     "status": "completed"
    },
    "tags": []
   },
   "outputs": [],
   "source": [
    "poems_df['poem_body'] = poems_df['poem_body'].apply(join_into_string)"
   ]
  },
  {
   "cell_type": "code",
   "execution_count": 14,
   "id": "85c90447",
   "metadata": {
    "execution": {
     "iopub.execute_input": "2023-08-07T23:39:02.287960Z",
     "iopub.status.busy": "2023-08-07T23:39:02.287567Z",
     "iopub.status.idle": "2023-08-07T23:39:02.294959Z",
     "shell.execute_reply": "2023-08-07T23:39:02.293658Z"
    },
    "papermill": {
     "duration": 0.021326,
     "end_time": "2023-08-07T23:39:02.300910",
     "exception": false,
     "start_time": "2023-08-07T23:39:02.279584",
     "status": "completed"
    },
    "tags": []
   },
   "outputs": [
    {
     "name": "stdout",
     "output_type": "stream",
     "text": [
      "COME away, come away, death, And in sad cypres let me be laid; Fly away, fly away, breath; I am slain by a fair cruel maid. My shroud of white, stuck all with yew, O prepare it! My part of death, no one so true Did share it.  Not a flower, not a flower sweet, On my black coffin let there be strown; Not a friend, not a friend greet My poor corse, where my bones shall be thrown: A thousand thousand sighs to save, Lay me, O, where Sad true lover never find my grave To weep there! \n",
      "When to the session of sweet silent thought I summon up remembrance of things past, I sigh the lack of many a thing I sought, And with old woes new wail my dear time's waste: Then can I drown an eye, unused to flow, For precious friends hid in death's dateless night, And weep afresh love's long since cancelled woe, And moan the expense of many a vanish'd sight: Then can I grieve at grievances foregone, And heavily from woe to woe tell o'er The sad account of fore-bemoaned moan, Which I new pay as if not paid before. But if the while I think on thee, dear friend, All losses are restored and sorrows end.\n",
      "O mistress mine, where are you roaming? O stay and hear! your true-love's coming That can sing both high and low; Trip no further, pretty sweeting, Journey's end in lovers' meeting— Every wise man's son doth know.  What is love? 'tis not hereafter; Present mirth hath present laughter; What's to come is still unsure: In delay there lies no plenty Then come kiss me, sweet and twenty, Youth's a stuff will not endure.\n",
      "ROSES, their sharp spines being gone, Not royal in their smells alone, But in their hue; Maiden pinks, of odour faint, Daisies smell-less, yet most quaint, And sweet thyme true;  Primrose, firstborn child of Ver; Merry springtime's harbinger, With her bells dim; Oxlips in their cradles growing, Marigolds on death-beds blowing, Larks'-heels trim;  All dear Nature's children sweet Lie 'fore bride and bridegroom's feet, Blessing their sense! Not an angel of the air, Bird melodious or bird fair, Be absent hence!  The crow, the slanderous cuckoo, nor The boding raven, nor chough hoar, Nor chattering pye, May on our bride-house perch or sing, Or with them any discord bring, But from it fly! \n",
      "Blow, blow, thou winter wind Thou art not so unkind As man's ingratitude; Thy tooth is not so keen, Because thou art not seen, Although thy breath be rude.  Heigh-ho! sing, heigh-ho! unto the green holly: Most friendship is feigning, most loving mere folly: Then heigh-ho, the holly! This life is most jolly.  Freeze, freeze thou bitter sky, That does not bite so nigh As benefits forgot: Though thou the waters warp, Thy sting is not so sharp As a friend remembered not. Heigh-ho! sing, heigh-ho! unto the green holly: Most friendship is feigning, most loving mere folly: Then heigh-ho, the holly! This life is most jolly. .\n",
      "HARK! hark! the lark at heaven's gate sings, And Phoebus 'gins arise, His steeds to water at those springs On chaliced flowers that lies; And winking Mary-buds begin To ope their golden eyes: With everything that pretty bin, My lady sweet, arise! Arise, arise! \n",
      "All the world's a stage, And all the men and women merely players; They have their exits and their entrances, And one man in his time plays many parts, His acts being seven ages. At first, the infant, Mewling and puking in the nurse's arms. Then the whining schoolboy, with his satchel And shining morning face, creeping like snail Unwillingly to school. And then the lover, Sighing like furnace, with a woeful ballad Made to his mistress' eyebrow. Then a soldier, Full of strange oaths and bearded like the pard, Jealous in honor, sudden and quick in quarrel, Seeking the bubble reputation Even in the cannon's mouth. And then the justice, In fair round belly with good capon lined, With eyes severe and beard of formal cut, Full of wise saws and modern instances; And so he plays his part. The sixth age shifts Into the lean and slippered pantaloon, With spectacles on nose and pouch on side; His youthful hose, well saved, a world too wide For his shrunk shank, and his big manly voice, Turning again toward childish treble, pipes And whistles in his sound. Last scene of all, That ends this strange eventful history, Is second childishness and mere oblivion, Sans teeth, sans eyes, sans taste, sans everything.\n",
      "Crabbed Age and Youth Cannot live together: Youth is full of pleasance, Age is full of care; Youth like summer morn, Age like winter weather; Youth like summer brave, Age like winter bare: Youth is full of sports, Age's breath is short, Youth is nimble, Age is lame: Youth is hot and bold, Age is weak and cold, Youth is wild, and Age is tame:— Age, I do abhor thee; Youth, I do adore thee; O! my Love, my Love is young! Age, I do defy thee— O sweet shepherd, hie thee, For methinks thou stay'st too long.\n",
      "FROM off a hill whose concave womb reworded A plaintful story from a sistering vale, My spirits to attend this double voice accorded, And down I laid to list the sad-tuned tale; Ere long espied a fickle maid full pale, Tearing of papers, breaking rings a-twain, Storming her world with sorrow's wind and rain. Upon her head a platted hive of straw, Which fortified her visage from the sun, Whereon the thought might think sometime it saw The carcass of beauty spent and done: Time had not scythed all that youth begun, Nor youth all quit; but, spite of heaven's fell rage, Some beauty peep'd through lattice of sear'd age. Oft did she heave her napkin to her eyne, Which on it had conceited characters, Laundering the silken figures in the brine That season'd woe had pelleted in tears, And often reading what contents it bears; As often shrieking undistinguish'd woe, In clamours of all size, both high and low. Sometimes her levell'd eyes their carriage ride, As they did battery to the spheres intend; Sometime diverted their poor balls are tied To the orbed earth; sometimes they do extend Their view right on; anon their gazes lend To every place at once, and, nowhere fix'd, The mind and sight distractedly commix'd. Her hair, nor loose nor tied in formal plat, Proclaim'd in her a careless hand of pride For some, untuck'd, descended her sheaved hat, Hanging her pale and pined cheek beside; Some in her threaden fillet still did bide, And true to bondage would not break from thence, Though slackly braided in loose negligence. A thousand favours from a maund she drew Of amber, crystal, and of beaded jet, Which one by one she in a river threw, Upon whose weeping margent she was set; Like usury, applying wet to wet, Or monarch's hands that let not bounty fall Where want cries some, but where excess begs all. Of folded schedules had she many a one, Which she perused, sigh'd, tore, and gave the flood; Crack'd many a ring of posied gold and bone Bidding them find their sepulchres in mud; Found yet moe letters sadly penn'd in blood, With sleided silk feat and affectedly Enswathed, and seal'd to curious secrecy. These often bathed she in her fluxive eyes, And often kiss'd, and often 'gan to tear: Cried 'O false blood, thou register of lies, What unapproved witness dost thou bear! Ink would have seem'd more black and damned here!' This said, in top of rage the lines she rents, Big discontent so breaking their contents. A reverend man that grazed his cattle nigh— Sometime a blusterer, that the ruffle knew Of court, of city, and had let go by The swiftest hours, observed as they flew— Towards this afflicted fancy fastly drew, And, privileged by age, desires to know In brief the grounds and motives of her woe. So slides he down upon his grained bat, And comely-distant sits he by her side; When he again desires her, being sat, Her grievance with his hearing to divide: If that from him there may be aught applied Which may her suffering ecstasy assuage, 'Tis promised in the charity of age. 'Father,' she says, 'though in me you behold The injury of many a blasting hour, Let it not tell your judgment I am old; Not age, but sorrow, over me hath power: I might as yet have been a spreading flower, Fresh to myself, If I had self-applied Love to myself and to no love beside. 'But, woe is me! too early I attended A youthful suit—it was to gain my grace— Of one by nature's outwards so commended, That maidens' eyes stuck over all his face: Love lack'd a dwelling, and made him her place; And when in his fair parts she did abide, She was new lodged and newly deified. 'His browny locks did hang in crooked curls; And every light occasion of the wind Upon his lips their silken parcels hurls. What's sweet to do, to do will aptly find: Each eye that saw him did enchant the mind, For on his visage was in little drawn What largeness thinks in Paradise was sawn. 'Small show of man was yet upon his chin; His phoenix down began but to appear Like unshorn velvet on that termless skin Whose bare out-bragg'd the web it seem'd to wear: Yet show'd his visage by that cost more dear; And nice affections wavering stood in doubt If best were as it was, or best without. 'His qualities were beauteous as his form, For maiden-tongued he was, and thereof free; Yet, if men moved him, was he such a storm As oft 'twixt May and April is to see, When winds breathe sweet, untidy though they be. His rudeness so with his authorized youth Did livery falseness in a pride of truth. 'Well could he ride, and often men would say 'That horse his mettle from his rider takes: Proud of subjection, noble by the sway, What rounds, what bounds, what course, what stop he makes!' And controversy hence a question takes, Whether the horse by him became his deed, Or he his manage by the well-doing steed. 'But quickly on this side the verdict went: His real habitude gave life and grace To appertainings and to ornament, Accomplish'd in himself, not in his case: All aids, themselves made fairer by their place, Came for additions; yet their purposed trim Pieced not his grace, but were all graced by him. 'So on the tip of his subduing tongue All kinds of arguments and question deep, All replication prompt, and reason strong, For his advantage still did wake and sleep: To make the weeper laugh, the laugher weep, He had the dialect and different skill, Catching all passions in his craft of will: 'That he did in the general bosom reign Of young, of old; and sexes both enchanted, To dwell with him in thoughts, or to remain In personal duty, following where he haunted: Consents bewitch'd, ere he desire, have granted; And dialogued for him what he would say, Ask'd their own wills, and made their wills obey. 'Many there were that did his picture get, To serve their eyes, and in it put their mind; Like fools that in th' imagination set The goodly objects which abroad they find Of lands and mansions, theirs in thought assign'd; And labouring in moe pleasures to bestow them Than the true gouty landlord which doth owe them: 'So many have, that never touch'd his hand, Sweetly supposed them mistress of his heart. My woeful self, that did in freedom stand, And was my own fee-simple, not in part, What with his art in youth, and youth in art, Threw my affections in his charmed power, Reserved the stalk and gave him all my flower. 'Yet did I not, as some my equals did, Demand of him, nor being desired yielded; Finding myself in honour so forbid, With safest distance I mine honour shielded: Experience for me many bulwarks builded Of proofs new-bleeding, which remain'd the foil Of this false jewel, and his amorous spoil. 'But, ah, who ever shunn'd by precedent The destined ill she must herself assay? Or forced examples, 'gainst her own content, To put the by-past perils in her way? Counsel may stop awhile what will not stay; For when we rage, advice is often seen By blunting us to make our wits more keen. 'Nor gives it satisfaction to our blood, That we must curb it upon others' proof; To be forbod the sweets that seem so good, For fear of harms that preach in our behoof. O appetite, from judgment stand aloof! The one a palate hath that needs will taste, Though Reason weep, and cry, 'It is thy last.' 'For further I could say 'This man's untrue,' And knew the patterns of his foul beguiling; Heard where his plants in others' orchards grew, Saw how deceits were gilded in his smiling; Knew vows were ever brokers to defiling; Thought characters and words merely but art, And bastards of his foul adulterate heart. 'And long upon these terms I held my city, Till thus he gan besiege me: 'Gentle maid, Have of my suffering youth some feeling pity, And be not of my holy vows afraid: That's to ye sworn to none was ever said; For feasts of love I have been call'd unto, Till now did ne'er invite, nor never woo. ''All my offences that abroad you see Are errors of the blood, none of the mind; Love made them not: with acture they may be, Where neither party is nor true nor kind: They sought their shame that so their shame did find; And so much less of shame in me remains, By how much of me their reproach contains. ''Among the many that mine eyes have seen, Not one whose flame my heart so much as warm'd, Or my affection put to the smallest teen, Or any of my leisures ever charm'd: Harm have I done to them, but ne'er was harm'd; Kept hearts in liveries, but mine own was free, And reign'd, commanding in his monarchy. ''Look here, what tributes wounded fancies sent me, Of paled pearls and rubies red as blood; Figuring that they their passions likewise lent me Of grief and blushes, aptly understood In bloodless white and the encrimson'd mood; Effects of terror and dear modesty, Encamp'd in hearts, but fighting outwardly. ''And, lo, behold these talents of their hair, With twisted metal amorously impleach'd, I have received from many a several fair, Their kind acceptance weepingly beseech'd, With the annexions of fair gems enrich'd, And deep-brain'd sonnets that did amplify Each stone's dear nature, worth, and quality. ''The diamond why, 'twas beautiful and hard, Whereto his invised properties did tend; The deep-green emerald, in whose fresh regard Weak sights their sickly radiance do amend; The heaven-hued sapphire and the opal blend With objects manifold: each several stone, With wit well blazon'd, smiled or made some moan. ''Lo, all these trophies of affections hot, Of pensived and subdued desires the tender, Nature hath charged me that I hoard them not, But yield them up where I myself must render, That is, to you, my origin and ender; For these, of force, must your oblations be, Since I their altar, you enpatron me. ''O, then, advance of yours that phraseless hand, Whose white weighs down the airy scale of praise; Take all these similes to your own command, Hallow'd with sighs that burning lungs did raise; What me your minister, for you obeys, Works under you; and to your audit comes Their distract parcels in combined sums. ''Lo, this device was sent me from a nun, Or sister sanctified, of holiest note; Which late her noble suit in court did shun, Whose rarest havings made the blossoms dote; For she was sought by spirits of richest coat, But kept cold distance, and did thence remove, To spend her living in eternal love. ''But, O my sweet, what labour is't to leave The thing we have not, mastering what not strives, Playing the place which did no form receive, Playing patient sports in unconstrained gyves? She that her fame so to herself contrives, The scars of battle 'scapeth by the flight, And makes her absence valiant, not her might. ''O, pardon me, in that my boast is true: The accident which brought me to her eye Upon the moment did her force subdue, And now she would the caged cloister fly: Religious love put out Religion's eye: Not to be tempted, would she be immured, And now, to tempt, all liberty procured. ''How mighty then you are, O, hear me tell! The broken bosoms that to me belong Have emptied all their fountains in my well, And mine I pour your ocean all among: I strong o'er them, and you o'er me being strong, Must for your victory us all congest, As compound love to physic your cold breast. ''My parts had power to charm a sacred nun, Who, disciplined, ay, dieted in grace, Believed her eyes when they to assail begun, All vows and consecrations giving place: O most potential love! vow, bond, nor space, In thee hath neither sting, knot, nor confine, For thou art all, and all things else are thine. ''When thou impressest, what are precepts worth Of stale example? When thou wilt inflame, How coldly those impediments stand forth Of wealth, of filial fear, law, kindred, fame! Love's arms are peace, 'gainst rule, 'gainst sense, 'gainst shame, And sweetens, in the suffering pangs it bears, The aloes of all forces, shocks, and fears. ''Now all these hearts that do on mine depend, Feeling it break, with bleeding groans they pine; And supplicant their sighs to you extend, To leave the battery that you make 'gainst mine, Lending soft audience to my sweet design, And credent soul to that strong-bonded oath That shall prefer and undertake my troth.' 'This said, his watery eyes he did dismount, Whose sights till then were levell'd on my face; Each cheek a river running from a fount With brinish current downward flow'd apace: O, how the channel to the stream gave grace! Who glazed with crystal gate the glowing roses That flame through water which their hue encloses. 'O father, what a hell of witchcraft lies In the small orb of one particular tear! But with the inundation of the eyes What rocky heart to water will not wear? What breast so cold that is not warmed here? O cleft effect! cold modesty, hot wrath, Both fire from hence and chill extincture hath. 'For, lo, his passion, but an art of craft, Even there resolved my reason into tears; There my white stole of chastity I daff'd, Shook off my sober guards and civil fears; Appear to him, as he to me appears, All melting; though our drops this difference bore, His poison'd me, and mine did him restore. 'In him a plenitude of subtle matter, Applied to cautels, all strange forms receives, Of burning blushes, or of weeping water, Or swooning paleness; and he takes and leaves, In either's aptness, as it best deceives, To blush at speeches rank to weep at woes, Or to turn white and swoon at tragic shows. 'That not a heart which in his level came Could 'scape the hail of his all-hurting aim, Showing fair nature is both kind and tame; And, veil'd in them, did win whom he would maim: Against the thing he sought he would exclaim; When he most burn'd in heart-wish'd luxury, He preach'd pure maid, and praised cold chastity. 'Thus merely with the garment of a Grace The naked and concealed fiend he cover'd; That th' unexperient gave the tempter place, Which like a cherubin above them hover'd. Who, young and simple, would not be so lover'd? Ay me! I fell; and yet do question make What I should do again for such a sake. 'O, that infected moisture of his eye, O, that false fire which in his cheek so glow'd, O, that forced thunder from his heart did fly, O, that sad breath his spongy lungs bestow'd, O, all that borrow'd motion seeming owed, Would yet again betray the fore-betray'd, And new pervert a reconciled maid!'\n",
      "Sir, in my heart there was a kind of fighting That would not let me sleep. Methought I lay Worse than the mutines in the bilboes. Rashly And prais'd be rashness for it: let us know Our indiscretion sometimes serves us well When our deep plots do pall; and that should learn us There's a divinity that shapes our ends, Rough-hew them how we will \n",
      "Who is Silvia? What is she? That all our swains commend her? Holy, fair, and wise is she: The heaven such grace did lend her, That she might admirèd be.  Is she kind as she is fair? For beauty lives with kindness: Love doth to her eyes repair, To help him of his blindness; And, being help’d, inhabits there.  Then to Silvia let us sing, That Silvia is excelling; She excels each mortal thing Upon the dull earth dwelling: To her let us garlands bring.\n",
      "Sigh no more, ladies, sigh no more, Men were deceivers ever; One foot in sea, and one on shore, To one thing constant never. Then sigh not so, But let them go, And be you blith and bonny, Converting all your sounds of woe Into Hey nonny, nonny.  Sing no more ditties, sing no mo Of dumps so dull and heavy; The fraud of men was ever so, Since summer first was leavy. Then sigh not so, But let them go, And be you blith and bonny, Converting all your sounds of woe Into Hey nonny, nonny.\n",
      "Orpheus with his lute made trees, And the mountain tops that freeze, Bow themselves, when he did sing: To his music plants and flowers Ever sprung; as sun and showers There had made a lasting spring.  Everything that heard him play, Even the billows of the sea, Hung their heads, and then lay by. In sweet music is such art, Killing care and grief of heart Fall asleep, or hearing, die.\n",
      "O never say that I was false of heart, Though absence seem'd my flame to qualify: As easy might I from myself depart As from my soul, which in thy breast doth lie;  That is my home of love; if I have ranged, Like him that travels, I return again, Just to the time, not with the time exchanged, So that myself bring water for my stain.  Never believe, though in my nature reign'd All frailties that besiege all kinds of blood, That it could so preposterously be stain'd To leave for nothing all thy sum of good:  For nothing this wide universe I call, Save thou, my rose: in it thou art my all.\n",
      "Now, my co-mates and brothers in exile, Hath not old customs make this life more sweet Than that of painted pomp? Are not these woods More free from peril than the envious court! Here feel we not the penalty of Adam, The seasons difference; as the icy fang And churlish chiding of the winters wind, Which when it bites and blows upon my body, Even till I shrink with cold, I smile and say This is no flattery; these are counsellors That feelingly persuade me what I am. Sweet are the uses of adversity; Which, like the toad, ugly and venomous, Wears yet a precious jewel in his head; And this our life, exempt from public haunt, Finds tongues in trees, books in the running brooks, Sermons in stones, and good in everything. I would not change it.\n",
      "From \"A Midsummer-Night's Dream,\" Act V. Scene 2  PUCK sings: NOW the hungry lion roars, And the wolf behowls the moon; Whilst the heavy ploughman snores, All with weary task fordone. Now the wasted brands do glow, Whilst the screech-owl, screeching loud, Puts the wretch that lies in woe In remembrance of a shroud. Now it is the time of night, That the graves, all gaping wide, Every one lets forth his sprite, In the churchway paths to glide: And we fairies, that do run By the triple Hecate's team, From the presence of the sun, Following darkness like a dream, Now are frolic; not a mouse Shall disturb this hallowed house: I am sent with broom before To sweep the dust behind the door.\n",
      "Your love and pity doth the impression fill, Which vulgar scandal stamped upon my brow; For what care I who calls me well or ill, So you o'er-green my bad, my good allow? You are my all-the-world, and I must strive To know my shames and praises from your tongue; None else to me, nor I to none alive, That my steeled sense or changes right or wrong. In so profound abysm I throw all care Of others' voices, that my adder's sense To critic and to flatterer stopped are. Mark how with my neglect I do dispense: You are so strongly in my purpose bred, That all the world besides methinks y'are dead.\n",
      "O, for my sake do you with Fortune chide, The guilty goddess of my harmful deeds, That did not better for my life provide Than public means which public manners breeds. Thence comes it that my name receives a brand, And almost thence my nature is subdu'd To what it works in, like the dyer's hand. Pity me then and wish I were renew'd; Whilst, like a willing patient, I will drink Potions of eisel 'gainst my strong infection; No bitterness that I will bitter think, Nor double penance, to correct correction. Pity me then, dear friend, and I assure ye Even that your pity is enough to cure me.\n",
      "Alas, 'tis true I have gone here and there And made myself a motley to the view, Gor'd mine own thoughts, sold cheap what is most dear, Made old offences of affections new. Most true it is that I have look'd on truth Askance and strangely: but, by all above, These blenches gave my heart another youth, And worse essays prov'd thee my best of love. Now all is done, have what shall have no end! Mine appetite, I never more will grind On newer proof, to try an older friend, A god in love, to whom I am confin'd. Then give me welcome, next my heaven the best, Even to thy pure and most most loving breast.\n",
      "For shame deny that thou bear'st love to any Who for thy self art so unprovident. Grant if thou wilt, thou art beloved of many, But that thou none lov'st is most evident: For thou art so possessed with murd'rous hate, That 'gainst thy self thou stick'st not to conspire, Seeking that beauteous roof to ruinate Which to repair should be thy chief desire: O change thy thought, that I may change my mind, Shall hate be fairer lodged than gentle love? Be as thy presence is gracious and kind, Or to thy self at least kind-hearted prove, Make thee another self for love of me, That beauty still may live in thine or thee.\n",
      "O! never say that I was false of heart, Though absence seem'd my flame to qualify, As easy might I from my self depart As from my soul which in thy breast doth lie: That is my home of love: if I have ranged, Like him that travels, I return again; Just to the time, not with the time exchanged, So that myself bring water for my stain. Never believe though in my nature reigned, All frailties that besiege all kinds of blood, That it could so preposterously be stained, To leave for nothing all thy sum of good; For nothing this wide universe I call, Save thou, my rose, in it thou art my all.\n",
      "What's in the brain, that ink may character, Which hath not figured to thee my true spirit? What's new to speak, what now to register, That may express my love, or thy dear merit? Nothing, sweet boy; but yet, like prayers divine, I must each day say o'er the very same; Counting no old thing old, thou mine, I thine, Even as when first I hallowed thy fair name. So that eternal love in love's fresh case, Weighs not the dust and injury of age, Nor gives to necessary wrinkles place, But makes antiquity for aye his page; Finding the first conceit of love there bred, Where time and outward form would show it dead.\n",
      "Not mine own fears, nor the prophetic soul Of the wide world dreaming on things to come, Can yet the lease of my true love control, Suppos'd as forfeit to a confin'd doom. The mortal moon hath her eclipse endur'd And the sad augurs mock their own presage; Incertainties now crown themselves assur'd And peace proclaims olives of endless age. Now with the drops of this most balmy time My love looks fresh, and Death to me subscribes, Since, spite of him, I'll live in this poor rhyme, While he insults o'er dull and speechless tribes; And thou in this shalt find thy monument, When tyrants' crests and tombs of brass are spent.\n",
      "When in the chronicle of wasted time I see descriptions of the fairest wights, And beauty making beautiful old rhyme In praise of ladies dead and lovely knights, Then, in the blazon of sweet beauty's best, Of hand, of foot, of lip, of eye, of brow, I see their antique pen would have express'd Even such a beauty as you master now. So all their praises are but prophecies Of this our time, all you prefiguring; And, for they look'd but with divining eyes, They had not skill enough your worth to sing: For we, which now behold these present days, Have eyes to wonder, but lack tongues to praise.\n",
      "Let not my love be called idolatry, Nor my beloved as an idol show, Since all alike my songs and praises be To one, of one, still such, and ever so. Kind is my love to-day, to-morrow kind, Still constant in a wondrous excellence; Therefore my verse to constancy confined, One thing expressing, leaves out difference. Fair, kind, and true, is all my argument, Fair, kind, and true, varying to other words; And in this change is my invention spent, Three themes in one, which wondrous scope affords. Fair, kind, and true, have often lived alone, Which three till now, never kept seat in one.\n",
      "To me, fair friend, you never can be old, For as you were when first your eye I ey'd, Such seems your beauty still. Three winters cold, Have from the forests shook three summers' pride, Three beauteous springs to yellow autumn turn'd, In process of the seasons have I seen, Three April perfumes in three hot Junes burn'd, Since first I saw you fresh, which yet are green. Ah! yet doth beauty like a dial-hand, Steal from his figure, and no pace perceiv'd; So your sweet hue, which methinks still doth stand, Hath motion, and mine eye may be deceiv'd: For fear of which, hear this thou age unbred: Ere you were born was beauty's summer dead.\n",
      "Alack! what poverty my Muse brings forth, That having such a scope to show her pride, The argument all bare is of more worth Than when it hath my added praise beside! O! blame me not, if I no more can write! Look in your glass, and there appears a face That over-goes my blunt invention quite, Dulling my lines, and doing me disgrace. Were it not sinful then, striving to mend, To mar the subject that before was well? For to no other pass my verses tend Than of your graces and your gifts to tell; And more, much more, than in my verse can sit, Your own glass shows you when you look in it.\n",
      "My love is strengthened, though more weak in seeming; I love not less, though less the show appear; That love is merchandized, whose rich esteeming, The owner's tongue doth publish every where. Our love was new, and then but in the spring, When I was wont to greet it with my lays; As Philomel in summer's front doth sing, And stops his pipe in growth of riper days: Not that the summer is less pleasant now Than when her mournful hymns did hush the night, But that wild music burthens every bough, And sweets grown common lose their dear delight. Therefore like her, I sometime hold my tongue: Because I would not dull you with my song.\n",
      "O truant Muse what shall be thy amends For thy neglect of truth in beauty dyed? Both truth and beauty on my love depends; So dost thou too, and therein dignified. Make answer Muse: wilt thou not haply say, 'Truth needs no colour, with his colour fixed; Beauty no pencil, beauty's truth to lay; But best is best, if never intermixed'? Because he needs no praise, wilt thou be dumb? Excuse not silence so, for't lies in thee To make him much outlive a gilded tomb And to be praised of ages yet to be. Then do thy office, Muse; I teach thee how To make him seem, long hence, as he shows now.\n",
      "Where art thou Muse that thou forget'st so long, To speak of that which gives thee all thy might? Spend'st thou thy fury on some worthless song, Darkening thy power to lend base subjects light? Return forgetful Muse, and straight redeem, In gentle numbers time so idly spent; Sing to the ear that doth thy lays esteem And gives thy pen both skill and argument. Rise, resty Muse, my love's sweet face survey, If Time have any wrinkle graven there; If any, be a satire to decay, And make time's spoils despised every where. Give my love fame faster than Time wastes life, So thou prevent'st his scythe and crooked knife.\n",
      "Double, double toil and trouble; Fire burn and caldron bubble. Fillet of a fenny snake, In the caldron boil and bake; Eye of newt and toe of frog, Wool of bat and tongue of dog, Adder's fork and blind-worm's sting, Lizard's leg and howlet's wing, For a charm of powerful trouble, Like a hell-broth boil and bubble.  Double, double toil and trouble; Fire burn and caldron bubble. Cool it with a baboon's blood, Then the charm is firm and good.\n",
      "Marcellus to Horatio and Bernardo, after seeing the Ghost,  Some say that ever ‘gainst that season comes Wherein our Saviour's birth is celebrated, This bird of dawning singeth all night long; And then, they say, no spirit dare stir abroad, The nights are wholesome, then no planets strike, No fairy takes, nor witch hath power to charm, So hallow'd and so gracious is the time.\n",
      "Three witches, casting a spell ...  Round about the cauldron go; In the poison'd entrails throw. Toad, that under cold stone Days and nights hast thirty one Swelter'd venom sleeping got, Boil thou first i' the charmed pot.  Double, double toil and trouble; Fire burn and cauldron bubble.  Fillet of a fenny snake, In the cauldron boil and bake; Eye of newt, and toe of frog, Wool of bat, and tongue of dog, Adder's fork, and blind-worm's sting, Lizard's leg, and howlet's wing, For a charm of powerful trouble, Like a hell-broth boil and bubble.  Double, double toil and trouble; Fire burn and cauldron bubble.\n",
      "TELL me where is Fancy bred, Or in the heart or in the head? How begot, how nourished? Reply, reply. It is engender'd in the eyes, With gazing fed; and Fancy dies In the cradle where it lies. Let us all ring Fancy's knell: I'll begin it, Ding, dong, bell. All. Ding, dong, bell.\n",
      "Farewell! God knows when we shall meet again. I have a faint cold fear thrills through my veins That almost freezes up the heat of life: I'll call them back again to comfort me; Nurse! What should she do here? My dismal scene I needs must act alone. Come, vial. What if this mixture do not work at all? Shall I be married, then, to-morrow morning? No, No! this shall forbid it: lie thou there. What if it be a poison, which the friar Subtly hath minister'd to have me dead, Lest in this marriage he should be dishonour'd, Because he married me before to Romeo? I fear it is: and yet methinks it should not, For he hath still been tried a holy man: I will not entertain so bad a thought. How if, when I am laid into the tomb, I wake before the time that Romeo Come to redeem me? there's a fearful point! Shall I not then be stifled in the vault, To whose foul mouth no healthsome air breathes in, And there die strangled ere my Romeo comes? Or, if I live, is it not very like The horrible conceit of death and night, Together with the terror of the place, As in a vault, an ancient receptacle, Where, for this many hundred years, the bones Of all my buried ancestors are pack'd; Where bloody Tybalt, yet but green in earth, Lies festering in his shroud; where, as they say, At some hours in the night spirits resort; Alack, alack, is it not like that I, So early waking, what with loathsome smells, And shrieks like mandrakes torn out of the earth, That living mortals, hearing them, run mad; O, if I wake, shall I not be distraught, Environed with all these hideous fears? And madly play with my forefathers' joints? And pluck the mangled Tybalt from his shroud? And, in this rage, with some great kinsman's bone, As with a club, dash out my desperate brains? O, look! methinks I see my cousin's ghost Seeking out Romeo, that did spit his body Upon a rapier's point: stay, Tybalt, stay! Romeo, I come! this do I drink to thee.\n",
      "It was a lover and his lass With a hey and a ho, and a hey-nonino! That o'er the green corn-field did pass In the spring time, the only pretty sing time, When birds do sing hey ding a ding: Sweet lovers love the Spring.  Between the acres of the rye These pretty country folks would lie: This carol they began that hour, How that life was a but a flower;  And therefore take the present time With a hey and a ho and a hey-nonino! For love is crowned with the prime In the spring time, the only pretty ring time, When birds do you sing hey ding a ding: Sweet lovers love the Spring.\n",
      "How like a winter hath my absence been From Thee, the pleasure of the fleeting year! What freezings have I felt; what dark days seen, What old December's bareness everywhere!  And yet this time removed was summer's time: The teeming autumn big with rich increase, Bearing the wanton burden of the prime Like widow'd wombs after their lords' decease;  Yet this abundant issue seem'd to me But hope of orphans, and unfather'd fruit; For summer and his pleasures wait on thee, And, thou away, the very birds are more; Or if they sing, 'tis with so dull a cheer, That leaves look pale, dreading the winter's near.\n",
      "Our remedies oft in ourselves do lie Which we ascribe to heaven. The fated sky Gives us free scope, only doth backward pull Our slow designs when we ourselves are dull. What power is it which mounts my love so high, That makes me see, and cannot feed mine eye? The mightiest space in fortune nature brings To join like likes and kiss like native things. Impossible be strange attempts to those That weigh their pains in sense and do suppose What hath been cannot be. Who ever strove To show her merit that did miss her love?\n",
      "But, lo! from forth a copse that neighbours by, A breeding jennet, lusty, young, and proud, Adonis' trampling courser doth espy, And forth she rushes, snorts and neighs aloud; The strong-neck'd steed, being tied unto a tree, Breaketh his rein, and to her straight goes he.  Imperiously he leaps, he neighs, he bounds, And now his woven girths he breaks asunder; The bearing earth with his hard hoof he wounds, Whose hollow womb resounds like heaven's thunder; The iron bit he crushes 'tween his teeth Controlling what he was controlled with.  His ears up-prick'd; his braided hanging mane Upon his compass'd crest now stand on end; His nostrils drink the air, and forth again, As from a furnace, vapours doth he send: His eye, which scornfully glisters like fire, Shows his hot courage and his high desire.  Sometime her trots, as if he told the steps, With gentle majesty and modest pride; Anon he rears upright, curvets and leaps, As who should say, 'Lo! thus my strength is tried; And this I do to captivate the eye Of the fair breeder that is standing by.'  What recketh he his rider's angry stir, His flattering 'Holla,' or his 'Stand, I say?' What cares he now for curb of pricking spur? For rich caparisons or trapping gay? He sees his love, and nothing else he sees, Nor nothing else with his proud sight agrees.  Look, when a painter would surpass the life, In limning out a well-proportion'd steed, His art with nature's workmanship at strife, As if the dead the living should exceed; So did this horse excel a common one, In shape, in courage, colour, pace and bone  Round-hoof'd, short-jointed, fetlocks shag and long, Broad breast, full eye, small head, and nostril wide, High crest, short ears, straight legs and passing strong, Thin mane, thick tail, broad buttock, tender hide: Look, what a horse should have he did not lack, Save a proud rider on so proud a back.  Sometimes he scuds far off, and there he stares; Anon he starts at stirring of a feather; To bid the wind a race he now prepares, And whe'r he run or fly they know not whether; For through his mane and tail the high wind sings, Fanning the hairs, who wave like feather'd wings.  He looks upon his love, and neighs unto her; She answers him as if she knew his mind; Being proud, as females are, to see him woo her, She puts on outward strangeness, seems unkind, Spurns at his love and scorns the heat he feels, Beating his kind embracements with her heels.  Then, like a melancholy malcontent, He vails his tail that, like a falling plume Cool shadow to his melting buttock lent: He stamps, and bites the poor flies in his fume. His love, perceiving how he is enrag'd, Grew kinder, and his fury was assuag'd.  His testy master goeth about to take him; When lo! the unback'd breeder, full of fear, Jealous of catching, swiftly doth forsake him, With her the horse, and left Adonis there. As they were mad, unto the wood they hie them, Out-stripping crows that strive to over-fly them.  I prophesy they death, my living sorrow, If thou encounter with the boar to-morrow.  \"But if thou needs wilt hunt, be rul'd by me; Uncouple at the timorous flying hare, Or at the fox which lives by subtlety, Or at the roe which no encounter dare: Pursue these fearful creatures o'er the downs, And on they well-breath'd horse keep with they hounds.  \"And when thou hast on food the purblind hare, Mark the poor wretch, to overshoot his troubles How he outruns with winds, and with what care He cranks and crosses with a thousand doubles: The many musits through the which he goes Are like a labyrinth to amaze his foes.  \"Sometime he runs among a flock of sheep, To make the cunning hounds mistake their smell, And sometime where earth-delving conies keep, To stop the loud pursuers in their yell, And sometime sorteth with a herd of deer; Danger deviseth shifts; wit waits on fear:  \"For there his smell with other being mingled, The hot scent-snuffing hounds are driven to doubt, Ceasing their clamorous cry till they have singled With much ado the cold fault cleanly out; Then do they spend their mouths: Echo replies, As if another chase were in the skies.  \"By this, poor Wat, far off upon a hill, Stands on his hinder legs with listening ear, To hearken if his foes pursue him still: Anon their loud alarums he doth hear; And now his grief may be compared well To one sore sick that hears the passing-bell.  \"Then shalt thou see the dew-bedabbled wretch Turn, and return, indenting with the way; Each envious briar his weary legs doth scratch, Each shadow makes him stop, each murmur stay: For misery is trodden on by many, And being low never reliev'd by any.  \"Lie quietly, and hear a little more; Nay, do not struggle, for thou shalt not rise: To make thee hate the hunting of the boar, Unlike myself thou hear'st me moralize, Applying this to that, and so to so; For love can comment upon every woe.\"\n",
      "Her lily hand her rosy cheek lies under, Cozening the pillow of a lawful kiss; Who, therefore angry, seems to part in sunder, Swelling on either side to want his bliss; Between whose hills her head entombed is; Where like a virtuous monument she lies, To be admired of lewd unhallowed eyes.  Without the bed her other fair hand was, On the green coverlet, whose perfect white Showed like an April daisy on the grass, With pearly sweat resembling dew of night. Her eyes, like marigolds, had sheathed their light, And canopied in darkness sweetly lay Till they might open to adorn the day.  Her hair like golden threads played with her breath O modest wantons, wanton modesty! Showing life's triumph in the map of death, And death's dim look in life's mortality. Each in her sleep themselves so beautify As if between them twain there were no strife, But that life lived in death, and death in life.  Her breasts like ivory globes circled with blue, A pair of maiden worlds unconquerèd, Save of their lord no bearing yoke they knew, And him by oath they truly honourèd. These worlds in Tarquin new ambition bred, Who like a foul usurper went about From this fair throne to heave the owner out.  What could he see but mightily he noted? What did he note but strongly he desired? What he beheld, on that he firmly doted, And in his will his willful eye he tired. With more than admiration he admired Her azure veins, her alabaster skin, Her coral lips, her snow-white dimpled chin.  As the grim lion fawneth o'er his prey Sharp hunger by the conquest satisfied, So o'er this sleeping soul doth Tarquin stay, His rage of lust by gazing qualified; Slacked, not suppressed; for, standing by her side, His eye, which late this mutiny restrains, Unto a greater uproar tempts his veins.  And they, like straggling slaves for pillage fighting, Obdurate vassals fell exploits effecting. In bloody death and ravishment delighting, Nor children's tears nor mothers' groans respecting, Swell in their pride, the onset still expecting. Anon his beating heart, alarum striking, Gives the hot charge and bids them do their liking.  His drumming heart cheers up his burning eye, His eye commends the leading to his hand; His hand, as proud of such a dignity, Smoking with pride, marched on to make his stand On her bare breast, the heart of all her land, Whose ranks of blue veins, as his hand did scale, Left their round turrets destitute and pale.  They, mustering to the quiet cabinet Where their dear governess and lady lies, Do tell her she is dreadfully beset And fright her with confusion of their cries. She, much amazed, breaks ope her locked-up eyes, Who, peeping forth this tumult to behold, Are by his flaming torch dimmed and controlled.  Imagine her as one in dead of night From forth dull sleep by dreadful fancy waking, That thinks she hath beheld some ghastly sprite, Whose grim aspect sets every joint a-shaking. What terror ‘tis! but she, in worser taking, From sleep disturbèd, heedfully doth view The sight which makes supposèd terror true.  Wrapped and confounded in a thousand fears, Like to a new-killed bird she trembling lies. She dares not look; yet, winking, there appears Quick-shifting antics ugly in her eyes. Such shadows are the weak brain's forgeries, Who, angry that the eyes fly from their lights, In darkness daunts them with more dreadful sights.  His hand, that yet remains upon her breast (Rude ram, to batter such an ivory wall!) May feel her heart (poor citizen) distressed, Wounding itself to death, rise up and fall, Beating her bulk, that his hand shakes withal. This moves in him more rage and lesser pity, To make the breach and enter this sweet city.\n",
      "Friends, Romans, countrymen, lend me your ears; I come to bury Caesar, not to praise him. The evil that men do lives after them; The good is oft interred with their bones; So let it be with Caesar. The noble Brutus Hath told you Caesar was ambitious: If it were so, it was a grievous fault, And grievously hath Caesar answer'd it. Here, under leave of Brutus and the rest- For Brutus is an honourable man; So are they all, all honourable men- Come I to speak in Caesar's funeral. He was my friend, faithful and just to me: But Brutus says he was ambitious; And Brutus is an honourable man. He hath brought many captives home to Rome Whose ransoms did the general coffers fill: Did this in Caesar seem ambitious? When that the poor have cried, Caesar hath wept: Ambition should be made of sterner stuff: Yet Brutus says he was ambitious; And Brutus is an honourable man. You all did see that on the Lupercal I thrice presented him a kingly crown, Which he did thrice refuse: was this ambition? Yet Brutus says he was ambitious; And, sure, he is an honourable man. I speak not to disprove what Brutus spoke, But here I am to speak what I do know. You all did love him once, not without cause: What cause withholds you then, to mourn for him? O judgment! thou art fled to brutish beasts, And men have lost their reason. Bear with me; My heart is in the coffin there with Caesar, And I must pause till it come back to me.\n",
      "FEAR no more the heat o' the sun, Nor the furious winter's rages; Thou thy worldly task hast done, Home art gone, and ta'en thy wages: Golden lads and girls all must, As chimney-sweepers, come to dust.  Fear no more the frown o' the great, Thou art past the tyrant's stroke; Care no more to clothe and eat; To thee the reed is as the oak: The sceptre, learning, physic, must All follow this, and come to dust.  Fear no more the lightning-flash, Nor the all-dreaded thunder-stone; Fear not slander, censure rash; Thou hast finish'd joy and moan: All lovers young, all lovers must Consign to thee, and come to dust.  No exorciser harm thee! Nor no witchcraft charm thee! Ghost unlaid forbear thee! Nothing ill come near thee! Quiet consummation have; And renowned be thy grave! \n",
      "Fear no more the heat ‘o the sun, Nor the furious winter’s rages; Thou they worldly task hast done, Home art gone, and ta’en they wages: Golden lads and girls all must As chimney-sweepers, come to dust.  Fear no more the frown o’ the great, Thou are past the tyrant’s stroke; Care no more to clothe and eat; To thee the reed is as the oak; The sceptre, learning, physic, must All follow this, and come to dust.  Fear no more, the lightning-flash, Nor th’ all-dreaded thunder-stone; Fear not slander, censure rash; Thou hast finished joy and moan: All lovers young, all lovers must Consign to thee, and come to dust. (‘Cymbeline.’)\n",
      "Full fathom five thy father lies; Of his bones are coral made; Those are pearls that were his eyes: Nothing of him that doth fade, But doth suffer a sea-change Into something rich and strange. Sea-nymphs hourly ring his knell: Ding-dong. Hark! now I hear them— Ding-dong, bell! \n",
      "Where the bee sucks, there suck I: In a cowslip's bell I lie; There I couch when owls do cry. On the bat's back I do fly After summer merrily: Merrily, merrily, shall I live now, Under the blossom that hangs on the bough. \n",
      "Come unto these yellow sands, And then take hands: Court'sied when you have, and kiss'd The wild waves whist Foot it featly here and there; And, sweet sprites, the burthen bear. Hark, hark! Bow, wow, The watch-dogs bark: Bow, wow. Hark, hark! I hear The strain of strutting chanticleer Cry, Cock-a-diddle-dow! \n",
      "You spotted snakes with double tongue, Thorny hedgehogs, be not seen; Newts and blind-worms, do no wrong; Come not near our fairy queen.  Philomel, with melody, Sing in our sweet lullaby; Lulla, lulla, lullaby; lulla, lulla, lullaby! Never harm, Nor spell nor charm, Come our lovely lady nigh; So, good night, with lullaby.  Weaving spiders, come not here; Hence, you long-legg'd spinners, hence! Beetles black, approach not near; Worm nor snail, do no offence.  Philomel, with melody, Sing in our sweet lullaby; Lulla, lulla, lullaby; lulla, lulla, lullaby! Never harm, Nor spell nor charm, Come our lovely lady nigh; So, good night, with lullaby. \n",
      "Over hill, over dale, Thorough bush, thorough brier, Over park, over pale, Thorough flood, thorough fire, I do wander everywhere, Swifter than the moone's sphere; And I serve the fairy queen, To dew her orbs upon the green: The cowslips tall her pensioners be; In their gold coats spots you see; Those be rubies, fairy favours, In those freckles live their savours: I must go seek some dew-drops here, And hang a pearl in every cowslip's ear. \n"
     ]
    }
   ],
   "source": [
    "for poem in poems_df['poem_body']:\n",
    "    print(poem)"
   ]
  },
  {
   "cell_type": "code",
   "execution_count": 15,
   "id": "43b86c8e",
   "metadata": {
    "execution": {
     "iopub.execute_input": "2023-08-07T23:39:02.318413Z",
     "iopub.status.busy": "2023-08-07T23:39:02.317957Z",
     "iopub.status.idle": "2023-08-07T23:39:02.328848Z",
     "shell.execute_reply": "2023-08-07T23:39:02.327407Z"
    },
    "papermill": {
     "duration": 0.023002,
     "end_time": "2023-08-07T23:39:02.331784",
     "exception": false,
     "start_time": "2023-08-07T23:39:02.308782",
     "status": "completed"
    },
    "tags": []
   },
   "outputs": [],
   "source": [
    "poems_df.to_csv('famous_poems_cleaned_single_string.csv')"
   ]
  },
  {
   "cell_type": "code",
   "execution_count": null,
   "id": "c6422afc",
   "metadata": {
    "papermill": {
     "duration": 0.00772,
     "end_time": "2023-08-07T23:39:02.347200",
     "exception": false,
     "start_time": "2023-08-07T23:39:02.339480",
     "status": "completed"
    },
    "tags": []
   },
   "outputs": [],
   "source": []
  }
 ],
 "metadata": {
  "kernelspec": {
   "display_name": "Python 3",
   "language": "python",
   "name": "python3"
  },
  "language_info": {
   "codemirror_mode": {
    "name": "ipython",
    "version": 3
   },
   "file_extension": ".py",
   "mimetype": "text/x-python",
   "name": "python",
   "nbconvert_exporter": "python",
   "pygments_lexer": "ipython3",
   "version": "3.10.12"
  },
  "papermill": {
   "default_parameters": {},
   "duration": 14.675485,
   "end_time": "2023-08-07T23:39:03.479910",
   "environment_variables": {},
   "exception": null,
   "input_path": "__notebook__.ipynb",
   "output_path": "__notebook__.ipynb",
   "parameters": {},
   "start_time": "2023-08-07T23:38:48.804425",
   "version": "2.4.0"
  }
 },
 "nbformat": 4,
 "nbformat_minor": 5
}
